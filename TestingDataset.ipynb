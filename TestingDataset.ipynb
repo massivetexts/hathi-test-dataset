{
 "cells": [
  {
   "cell_type": "markdown",
   "metadata": {},
   "source": [
    "# Creating a Test Dataset\n",
    "\n",
    "## Sampling Criteria\n",
    "\n",
    "- English\n",
    "- Focus only on monographic books (bib_fmt=='BK') and non-government docs\n",
    "- Authors with more than 10 works. Inclusion in dataset capped at 100\n",
    "- N is approximately 100,000 - a 150k selection is made, then cross-referenced with books available in EF"
   ]
  },
  {
   "cell_type": "code",
   "execution_count": 1,
   "metadata": {},
   "outputs": [],
   "source": [
    "import pandas as pd\n",
    "import dask\n",
    "import dask.dataframe as dd\n",
    "header_index = pd.read_csv('/data/hathifiles/header.txt', sep='\\t').columns\n",
    "# Grab the dtypes from the first few rows. HathiFiles are not cleanly exported, as far as I can tell, so \n",
    "# the dtype can be used to tells Pandas what to expect and throw out other cases\n",
    "dtypes = pd.read_csv('/data/hathifiles/hathi_full_20190201.txt.gz', names=header_index, quoting=3,\n",
    "                 compression='gzip', sep='\\t', nrows=5000).dtypes.values\n",
    "# Read as a dask dataframe\n",
    "meta = dd.read_csv('/data/hathifiles/hathi_chunk_20190201.*.txt.gz', names=header_index,\n",
    "                   compression='gzip', sep='\\t', blocksize=None, dtype=dtypes)"
   ]
  },
  {
   "cell_type": "code",
   "execution_count": 5,
   "metadata": {},
   "outputs": [],
   "source": [
    "seed1, seed2 = 54321, 86420"
   ]
  },
  {
   "cell_type": "code",
   "execution_count": null,
   "metadata": {},
   "outputs": [],
   "source": [
    "min_books = 10 # Authors with fewer books are excluded\n",
    "max_books = 100 # Authors with more books are included, but capped\n",
    "total_sample_size = 150000\n",
    "\n",
    "eng = meta[meta.lang == 'eng']\n",
    "just_bk = eng[eng.bib_fmt == 'BK']\n",
    "drop_govt = just_bk[just_bk.us_gov_doc_flag != '1']\n",
    "\n",
    "author_counts = drop_govt.author.value_counts().compute()\n",
    "top_authors = author_counts[author_counts >= min_books]\n",
    "# cap authors at 100, randomize, and select enough to collect 150k books\n",
    "top_authors[top_authors > max_books] = max_books \n",
    "top_authors = top_authors.sample(frac=1, random_state=seed1)\n",
    "author_sample = top_authors[top_authors.cumsum() <= total_sample_size].index\n",
    "\n",
    "truncate_authors = drop_govt[drop_govt.author.isin(author_sample)]\n",
    "\n",
    "# For each author, sort their books and keep only 100\n",
    "capped_books = truncate_authors.groupby('author').apply(lambda x: x.sample(frac=1, random_state=seed2).head(max_books) )"
   ]
  },
  {
   "cell_type": "code",
   "execution_count": null,
   "metadata": {},
   "outputs": [],
   "source": [
    "df = capped_books.compute()\n",
    "df.sample(4)"
   ]
  },
  {
   "cell_type": "markdown",
   "metadata": {},
   "source": [
    "Check if there is an Extracted Features Dataset file for each book, and save the final dataset."
   ]
  },
  {
   "cell_type": "code",
   "execution_count": null,
   "metadata": {},
   "outputs": [],
   "source": [
    "import os\n",
    "from htrc_features import utils\n",
    "ef_exists = df.htid.apply(lambda x: '/data/extracted-features/' + utils.id_to_rsync(x)).apply(os.path.exists)"
   ]
  },
  {
   "cell_type": "code",
   "execution_count": 30,
   "metadata": {},
   "outputs": [],
   "source": [
    "df[ef_exists].to_csv('test_dataset.csv.gz', compression='gzip', index=False)"
   ]
  },
  {
   "cell_type": "code",
   "execution_count": 50,
   "metadata": {},
   "outputs": [],
   "source": [
    "df[ef_exists].htid.to_csv('test_dataset_htids.csv', index=False, header=False, quoting=3, sep=\" \")"
   ]
  },
  {
   "cell_type": "code",
   "execution_count": 51,
   "metadata": {},
   "outputs": [],
   "source": [
    "df[ef_exists].htid.apply(utils.id_to_rsync).to_csv('test_dataset_paths.csv', index=False, header=False, quoting=3, sep=\" \")"
   ]
  },
  {
   "cell_type": "code",
   "execution_count": 46,
   "metadata": {},
   "outputs": [
    {
     "data": {
      "text/plain": [
       "3"
      ]
     },
     "execution_count": 46,
     "metadata": {},
     "output_type": "execute_result"
    }
   ],
   "source": [
    "import csv\n",
    "csv.QUOTE_NONE"
   ]
  },
  {
   "cell_type": "code",
   "execution_count": null,
   "metadata": {},
   "outputs": [],
   "source": [
    "df"
   ]
  },
  {
   "cell_type": "markdown",
   "metadata": {},
   "source": [
    "## Dataset Stats\n",
    "\n",
    "Number of volumes:"
   ]
  },
  {
   "cell_type": "code",
   "execution_count": 12,
   "metadata": {},
   "outputs": [
    {
     "data": {
      "text/plain": [
       "(149995, 143864)"
      ]
     },
     "execution_count": 12,
     "metadata": {},
     "output_type": "execute_result"
    }
   ],
   "source": [
    "df.shape[0], df[ef_exists].shape[0]"
   ]
  },
  {
   "cell_type": "markdown",
   "metadata": {},
   "source": [
    "Number of unique authors:"
   ]
  },
  {
   "cell_type": "code",
   "execution_count": 14,
   "metadata": {},
   "outputs": [
    {
     "data": {
      "text/plain": [
       "6129"
      ]
     },
     "execution_count": 14,
     "metadata": {},
     "output_type": "execute_result"
    }
   ],
   "source": [
    "a = df[ef_exists].author.value_counts()\n",
    "a.size"
   ]
  },
  {
   "cell_type": "markdown",
   "metadata": {},
   "source": [
    "Number of authors without a date - usually organizations, sometimes classic authors like `Homer`:"
   ]
  },
  {
   "cell_type": "code",
   "execution_count": 15,
   "metadata": {},
   "outputs": [
    {
     "name": "stdout",
     "output_type": "stream",
     "text": [
      "# of no date authors: 2055 \n",
      "# of books by those authors 39213 \n",
      "Example of authors:  ['Swift & Company.', 'Goldston, Robert C.', 'Quibria, M. G.', 'Food and Agriculture Organization of the United Nations.', 'Smith, William A.']\n"
     ]
    }
   ],
   "source": [
    "no_date = a[~a.index.str.contains('\\d')]\n",
    "print(\"# of no date authors:\", no_date.size, \"\\n# of books by those authors\", no_date.sum(), \"\\nExample of authors: \", no_date.sample(5).index.tolist())"
   ]
  },
  {
   "cell_type": "markdown",
   "metadata": {},
   "source": [
    "\n",
    "Number of books that seem to have non-English titles.\n",
    "\n",
    "*This language classification was originally done as part of the sampling, but I removed it because it did not make a big impact, while adding complexity to a sampling process that is ideally simple.*"
   ]
  },
  {
   "cell_type": "code",
   "execution_count": 28,
   "metadata": {},
   "outputs": [
    {
     "data": {
      "text/plain": [
       "854"
      ]
     },
     "execution_count": 28,
     "metadata": {},
     "output_type": "execute_result"
    }
   ],
   "source": [
    "import langid\n",
    "title_lang = df[ef_exists].title.apply(lambda x: langid.classify(x))\n",
    "keep_choice = title_lang.apply(lambda x: (x[0] == 'en') or (x[1] > -150))\n",
    "df[ef_exists].shape[0] - keep_choice.sum()"
   ]
  },
  {
   "cell_type": "markdown",
   "metadata": {},
   "source": [
    "Distribution of authors by # of books represented."
   ]
  },
  {
   "cell_type": "code",
   "execution_count": 29,
   "metadata": {},
   "outputs": [
    {
     "data": {
      "text/plain": [
       "<matplotlib.axes._subplots.AxesSubplot at 0x7f3c58d0b588>"
      ]
     },
     "execution_count": 29,
     "metadata": {},
     "output_type": "execute_result"
    },
    {
     "data": {
      "image/png": "[encoded data removed]",
      "text/plain": [
       "<Figure size 432x288 with 1 Axes>"
      ]
     },
     "metadata": {
      "needs_background": "light"
     },
     "output_type": "display_data"
    }
   ],
   "source": [
    "%matplotlib inline\n",
    "a.plot(kind='hist', bins=20)"
   ]
  },
  {
   "cell_type": "markdown",
   "metadata": {},
   "source": [
    "Number of author+title combos that are duplicated exactly:"
   ]
  },
  {
   "cell_type": "code",
   "execution_count": 17,
   "metadata": {},
   "outputs": [
    {
     "data": {
      "text/plain": [
       "60190"
      ]
     },
     "execution_count": 17,
     "metadata": {},
     "output_type": "execute_result"
    }
   ],
   "source": [
    "dedupe = df[ef_exists][['title', 'author']].drop_duplicates()\n",
    "df[ef_exists].shape[0] - dedupe.drop_duplicates().shape[0]"
   ]
  },
  {
   "cell_type": "markdown",
   "metadata": {},
   "source": [
    "Authors with most exact duplicates:"
   ]
  },
  {
   "cell_type": "code",
   "execution_count": 18,
   "metadata": {},
   "outputs": [
    {
     "data": {
      "text/plain": [
       "Kürschner, Joseph, 1853-1902.                                                                       99\n",
       "Shortt, Adam, 1859-1931,                                                                            98\n",
       "Boston (Mass.). Registry Department.                                                                98\n",
       "Euler, Leonhard, 1707-1783                                                                          97\n",
       "Parry, Clive                                                                                        96\n",
       "Bell, John, 1745-1831.                                                                              88\n",
       "Great Britain. Public Record Office                                                                 88\n",
       "McQuillin, Eugene, 1860-1937.                                                                       87\n",
       "Great Britain. Ministry of Public Buildings and Works. Ancient Monuments and Historic Buildings.    82\n",
       "Henry, Robert, 1718-1790.                                                                           82\n",
       "Name: author, dtype: int64"
      ]
     },
     "execution_count": 18,
     "metadata": {},
     "output_type": "execute_result"
    }
   ],
   "source": [
    "(a-dedupe.author.value_counts()).sort_values(ascending=False).head(10)"
   ]
  },
  {
   "cell_type": "markdown",
   "metadata": {},
   "source": [
    "For example, here are the unique titles by one of the most redundant authors. Variants in the titles show that the author+title deduping is only good for a rough estimation:"
   ]
  },
  {
   "cell_type": "code",
   "execution_count": 27,
   "metadata": {},
   "outputs": [
    {
     "data": {
      "text/html": [
       "<div>\n",
       "<style scoped>\n",
       "    .dataframe tbody tr th:only-of-type {\n",
       "        vertical-align: middle;\n",
       "    }\n",
       "\n",
       "    .dataframe tbody tr th {\n",
       "        vertical-align: top;\n",
       "    }\n",
       "\n",
       "    .dataframe thead th {\n",
       "        text-align: right;\n",
       "    }\n",
       "</style>\n",
       "<table border=\"1\" class=\"dataframe\">\n",
       "  <thead>\n",
       "    <tr style=\"text-align: right;\">\n",
       "      <th></th>\n",
       "      <th>author</th>\n",
       "    </tr>\n",
       "    <tr>\n",
       "      <th>title</th>\n",
       "      <th></th>\n",
       "    </tr>\n",
       "  </thead>\n",
       "  <tbody>\n",
       "    <tr>\n",
       "      <th>Canada and its provinces : a history of the Canadian people and their institutions / by one hundred associates. General editors: Adam Shortt and Arthur G. Doughty.</th>\n",
       "      <td>19</td>\n",
       "    </tr>\n",
       "    <tr>\n",
       "      <th>Canada and its provinces; a history of the Canadian people and their institutions, by one hundred associates. Adam Shortt, Arthur G. Doughty, general editors.</th>\n",
       "      <td>81</td>\n",
       "    </tr>\n",
       "  </tbody>\n",
       "</table>\n",
       "</div>"
      ],
      "text/plain": [
       "                                                    author\n",
       "title                                                     \n",
       "Canada and its provinces : a history of the Can...      19\n",
       "Canada and its provinces; a history of the Cana...      81"
      ]
     },
     "execution_count": 27,
     "metadata": {},
     "output_type": "execute_result"
    }
   ],
   "source": [
    "df[df.author.str.contains('Shortt')].groupby('title')[['author']].count()"
   ]
  },
  {
   "cell_type": "code",
   "execution_count": null,
   "metadata": {},
   "outputs": [],
   "source": []
  }
 ],
 "metadata": {
  "kernelspec": {
   "display_name": "Python 3",
   "language": "python",
   "name": "python3"
  },
  "language_info": {
   "codemirror_mode": {
    "name": "ipython",
    "version": 3
   },
   "file_extension": ".py",
   "mimetype": "text/x-python",
   "name": "python",
   "nbconvert_exporter": "python",
   "pygments_lexer": "ipython3",
   "version": "3.6.7"
  }
 },
 "nbformat": 4,
 "nbformat_minor": 2
}
