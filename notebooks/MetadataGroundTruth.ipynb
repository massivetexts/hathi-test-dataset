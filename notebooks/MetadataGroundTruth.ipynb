{
 "cells": [
  {
   "cell_type": "code",
   "execution_count": 1,
   "metadata": {},
   "outputs": [],
   "source": [
    "%load_ext autoreload\n",
    "%autoreload 2"
   ]
  },
  {
   "cell_type": "code",
   "execution_count": 1,
   "metadata": {},
   "outputs": [
    {
     "data": {
      "text/plain": [
       "1"
      ]
     },
     "execution_count": 1,
     "metadata": {},
     "output_type": "execute_result"
    }
   ],
   "source": [
    "1 "
   ]
  },
  {
   "cell_type": "code",
   "execution_count": 35,
   "metadata": {},
   "outputs": [],
   "source": [
    "import pandas as pd\n",
    "from compare_tools.hathimeta import clean_description, clean_title, HathiMeta\n",
    "import itertools\n",
    "meta = HathiMeta('/data/saddl/meta.db')\n",
    "df = meta.full_table()\n",
    "df.description = clean_description(df.description)"
   ]
  },
  {
   "cell_type": "code",
   "execution_count": 9,
   "metadata": {},
   "outputs": [],
   "source": [
    "#oclc_with_multiples = \n",
    "with_desc = df[~df.description.isnull()]\n",
    "# oclc+desc matches\n",
    "swsm_counts = with_desc.groupby(['oclc_num', 'description']).htid.count().sort_index()\n",
    "multiple_swsm = swsm_counts[swsm_counts > 1].reset_index()[['oclc_num', 'description']]\n",
    "wp_dv_counts = multiple_swsm.groupby('oclc_num').description.count()\n",
    "multiple_wp_dv = wp_dv_counts[wp_dv_counts > 1].reset_index()[['oclc_num']]"
   ]
  },
  {
   "cell_type": "code",
   "execution_count": 10,
   "metadata": {},
   "outputs": [],
   "source": [
    "all_meta = pd.DataFrame([], columns=['left','right','judgment','note'])"
   ]
  },
  {
   "cell_type": "code",
   "execution_count": 11,
   "metadata": {},
   "outputs": [
    {
     "data": {
      "text/plain": [
       "(21586, 5)"
      ]
     },
     "execution_count": 11,
     "metadata": {},
     "output_type": "execute_result"
    }
   ],
   "source": [
    "# Add ground truth for SWSM\n",
    "judgments = []\n",
    "for i, s in multiple_swsm.iterrows():\n",
    "    q = \" & \".join([\"({}=='{}')\".format(k,v) for k,v in s.items()])\n",
    "    matches = with_desc.query(q)\n",
    "    try:\n",
    "        for left, right in itertools.product(matches.htid, matches.htid):\n",
    "            if left == right:\n",
    "                continue\n",
    "            judgments.append({'left':left, 'right':right, 'judgment': 'SWSM', 'notes':'oclc+desc'})\n",
    "    except:\n",
    "        print(\"Problem with \", q)\n",
    "all_meta = pd.concat([all_meta, pd.DataFrame(judgments)])\n",
    "all_meta.shape"
   ]
  },
  {
   "cell_type": "code",
   "execution_count": 12,
   "metadata": {},
   "outputs": [
    {
     "data": {
      "text/plain": [
       "(164066, 5)"
      ]
     },
     "execution_count": 12,
     "metadata": {},
     "output_type": "execute_result"
    }
   ],
   "source": [
    "# Add ground truth for WP_DV. This will result in *some* SWSM, which will be overwritten later\n",
    "judgments = []\n",
    "for i, s in multiple_wp_dv.iterrows():\n",
    "    q = \" & \".join([\"({}=='{}')\".format(k,v) for k,v in s.items()])\n",
    "    matches = with_desc.query(q)\n",
    "    try:\n",
    "        for left, right in itertools.product(matches.htid, matches.htid):\n",
    "            if left == right:\n",
    "                continue\n",
    "            judgments.append({'left':left, 'right':right, 'judgment': 'WP_DV', 'notes':'oclc+desc'})\n",
    "    except:\n",
    "        print(\"Problem with \", q)\n",
    "all_meta = pd.concat([all_meta, pd.DataFrame(judgments)]).drop_duplicates()\n",
    "# This will sort where 'SWSM' is before 'WP_DV' - then\n",
    "# drop left/right duplicates while keeping the first ('SWSM') row\n",
    "all_meta = all_meta.sort_values(['left','right', 'judgment']).drop_duplicates(['left','right'], keep='first')\n",
    "all_meta.shape"
   ]
  },
  {
   "cell_type": "markdown",
   "metadata": {},
   "source": [
    "Collect 'PARTOF' and 'CONTAINS' by expanding hyphenated descriptions like 'v.1-2'"
   ]
  },
  {
   "cell_type": "code",
   "execution_count": 13,
   "metadata": {},
   "outputs": [
    {
     "data": {
      "text/plain": [
       "(164416, 5)"
      ]
     },
     "execution_count": 13,
     "metadata": {},
     "output_type": "execute_result"
    }
   ],
   "source": [
    "def expand_multivol(desc):\n",
    "    prefix, rangenum = desc.split('.')\n",
    "    start, end = [int(s) for s in rangenum.split('-')]\n",
    "    contains = [\"{}.{}\".format(prefix,i) for i in range(start, end+1)]\n",
    "    return contains\n",
    "\n",
    "multivols = df[df.description.fillna('').str.contains('^(v|c|no|pt)\\.\\d+-\\d+$')].description.value_counts().index.values\n",
    "judgments = []\n",
    "for x in multivols:\n",
    "    contains = expand_multivol(x)\n",
    "    subset = df[df.description == x][['oclc_num','htid']]\n",
    "    \n",
    "    for i, row in subset.iterrows():\n",
    "        contains_htids = df[(df.oclc_num == row.oclc_num) & df.description.isin(contains)].htid\n",
    "        for right in contains_htids:\n",
    "            judgments.append({'left':row.htid, 'right':right, 'judgment':'CONTAINS', 'notes':'desc split'})\n",
    "            judgments.append({'left':right, 'right':row.htid, 'judgment':'PARTOF', 'notes':'desc split'})\n",
    "\n",
    "all_meta = pd.concat([all_meta, pd.DataFrame(judgments)]).drop_duplicates()\n",
    "# if the v1-2 relationships were coded previously as WP_DV, drop those judgments\n",
    "# in favour of PARTOF or CONTAINS\n",
    "all_meta = all_meta.drop_duplicates(['left','right'], keep='last')\n",
    "all_meta.shape"
   ]
  },
  {
   "cell_type": "markdown",
   "metadata": {},
   "source": [
    "## Additional judgments\n",
    "\n",
    "- Collect a sample of SWDE, where the title and author are the same, while the page count and date are different\n",
    "- Collect a sample of same AUTHOR information, where the Author is the same but the title *seems* to be different (even with fuzzy matching).\n",
    "- Collect a random sample of DIFF - where the Author is different.\n",
    "\n",
    "Title comparisons are done with a fuzzy matching, using byte-pair encoding embeddings (BPEmb)."
   ]
  },
  {
   "cell_type": "code",
   "execution_count": 14,
   "metadata": {},
   "outputs": [],
   "source": [
    "from bpemb import BPEmb\n",
    "import numpy as np\n",
    "from scipy.spatial.distance import cosine, pdist, cdist, squareform\n",
    "bpemb_en = BPEmb(lang=\"en\")"
   ]
  },
  {
   "cell_type": "code",
   "execution_count": 15,
   "metadata": {},
   "outputs": [],
   "source": [
    "# Convert cleaned title to BPE encodings and keep those vectors\n",
    "title_vecs = df.title.apply(clean_title).apply(bpemb_en.encode_ids).apply(lambda x: bpemb_en.vectors[x].sum(0)).values\n",
    "title_vecs = np.vstack(title_vecs)"
   ]
  },
  {
   "cell_type": "code",
   "execution_count": 17,
   "metadata": {},
   "outputs": [
    {
     "name": "stdout",
     "output_type": "stream",
     "text": [
      "Processing ground truth for 6129 authors\n",
      "300 Balfour, Clara Lucas, 1808-1878.\n",
      "DIFF      20535\n",
      "AUTHOR    12761\n",
      "SWDE        242\n",
      "Name: judgment, dtype: int64\n",
      "600 Botting, Douglas.\n",
      "DIFF      42015\n",
      "AUTHOR    26666\n",
      "SWDE        790\n",
      "Name: judgment, dtype: int64\n",
      "900 California. Commissioners of Transportation.\n",
      "DIFF      65355\n",
      "AUTHOR    41758\n",
      "SWDE       1288\n",
      "Name: judgment, dtype: int64\n",
      "1200 Committee for Economic Development.\n",
      "DIFF      84759\n",
      "AUTHOR    54067\n",
      "SWDE       1726\n",
      "Name: judgment, dtype: int64\n",
      "1500 Dick, John, 1764-1833.\n",
      "DIFF      106053\n",
      "AUTHOR     67686\n",
      "SWDE        1968\n",
      "Name: judgment, dtype: int64\n",
      "1800 Federal Writers' Project. New York (City)\n",
      "DIFF      127191\n",
      "AUTHOR     80764\n",
      "SWDE        2224\n",
      "Name: judgment, dtype: int64\n",
      "2100 Gill, Harjeet Singh, 1935-\n",
      "DIFF      150390\n",
      "AUTHOR     95554\n",
      "SWDE        2548\n",
      "Name: judgment, dtype: int64\n",
      "2400 Harmon, Robert B. 1932-\n",
      "DIFF      172548\n",
      "AUTHOR    109371\n",
      "SWDE        3980\n",
      "Name: judgment, dtype: int64\n",
      "2700 Hutchings, J. M. 1820-1902.\n",
      "DIFF      192894\n",
      "AUTHOR    121783\n",
      "SWDE        4444\n",
      "Name: judgment, dtype: int64\n",
      "3000 Kavanagh, Barry F.\n",
      "DIFF      213777\n",
      "AUTHOR    134556\n",
      "SWDE        4618\n",
      "Name: judgment, dtype: int64\n",
      "3300 Lewis, Henry Carvill, 1853-1888.\n",
      "DIFF      233211\n",
      "AUTHOR    146603\n",
      "SWDE        4942\n",
      "Name: judgment, dtype: int64\n",
      "3600 Mason, John Brown, 1904-\n",
      "DIFF      252864\n",
      "AUTHOR    159050\n",
      "SWDE        5402\n",
      "Name: judgment, dtype: int64\n",
      "3900 Munk, Eduard, 1803-1871.\n",
      "DIFF      273552\n",
      "AUTHOR    172262\n",
      "SWDE        6212\n",
      "Name: judgment, dtype: int64\n",
      "4200 Pais, Ettore, 1856-1939.\n",
      "DIFF      293523\n",
      "AUTHOR    184315\n",
      "SWDE        6362\n",
      "Name: judgment, dtype: int64\n",
      "4500 Quibria, M. G.\n",
      "DIFF      315159\n",
      "AUTHOR    197702\n",
      "SWDE        6830\n",
      "Name: judgment, dtype: int64\n",
      "4800 Samter, Max, 1908-\n",
      "DIFF      335886\n",
      "AUTHOR    210759\n",
      "SWDE        7284\n",
      "Name: judgment, dtype: int64\n",
      "5100 Smith, Helen Ainslie.\n",
      "DIFF      357888\n",
      "AUTHOR    224867\n",
      "SWDE        7774\n",
      "Name: judgment, dtype: int64\n",
      "5400 Teilhard de Chardin, Pierre.\n",
      "DIFF      381285\n",
      "AUTHOR    239683\n",
      "SWDE        8676\n",
      "Name: judgment, dtype: int64\n",
      "5700 Varney, George J. 1836-1901.\n",
      "DIFF      403104\n",
      "AUTHOR    253335\n",
      "SWDE        8930\n",
      "Name: judgment, dtype: int64\n",
      "6000 Wilson, Erasmus, Sir, 1809-1884.\n",
      "DIFF      421344\n",
      "AUTHOR    264898\n",
      "SWDE        9458\n",
      "Name: judgment, dtype: int64\n"
     ]
    },
    {
     "data": {
      "text/plain": [
       "DIFF        431592\n",
       "AUTHOR      271381\n",
       "WP_DV       141904\n",
       "SWSM         21586\n",
       "SWDE          9930\n",
       "PARTOF         463\n",
       "CONTAINS       463\n",
       "Name: judgment, dtype: int64"
      ]
     },
     "execution_count": 17,
     "metadata": {},
     "output_type": "execute_result"
    }
   ],
   "source": [
    "print(\"Processing ground truth for {} authors\".format(len(df.author.unique())))\n",
    "i = 0\n",
    "judgments = []\n",
    "for author, author_subset in df.sample(frac=1).groupby('author'):\n",
    "    i += 1\n",
    "    if i % 300 == 0:\n",
    "        print(i, author)\n",
    "        print(pd.DataFrame(judgments).judgment.value_counts())\n",
    "\n",
    "    # Get pairwise similarity between all titles for author\n",
    "    selection_vecs = title_vecs[author_subset.index]\n",
    "    selection_sims = squareform(pdist(selection_vecs, metric='cosine'))\n",
    "    #np.fill_diagonal(selection_sims, np.nan)\n",
    "\n",
    "    for target_i, target in enumerate(author_subset.itertuples()):\n",
    "        page_diff = author_subset.page_count.sub(target.page_count).abs()\n",
    "        date_diff = author_subset.rights_date_used.sub(target.rights_date_used).abs()\n",
    "        similar_pages = page_diff < 10\n",
    "        different_pages_lo = (page_diff > 20) & (page_diff <= 30)\n",
    "        different_pages_hi = page_diff > 30\n",
    "        different_oclc = author_subset.oclc_num != target.oclc_num\n",
    "        different_date_lo = (date_diff > 0) & (date_diff <= 10)\n",
    "        different_date_hi = (date_diff > 10)\n",
    "        same_titles = selection_sims[target_i] <= 0.1\n",
    "        same_titles[target_i] = False\n",
    "        different_titles = selection_sims[target_i] >= 0.3\n",
    "\n",
    "        # Empty if the target_desc == None, which is preferred since we're building ground truth and desc=None is unpredictable - sometimes it's the same single volume, \n",
    "        # sometimes it's not\n",
    "        same_desc = author_subset.description == target.description\n",
    "\n",
    "        # SWDE different conditions with different strictness\n",
    "        #swde = author_subset[cols][different_pages & same_titles & (different_oclc|different_date) & same_desc] # diff oclc is not reliable enough\n",
    "        for p_cond_name, page_cond in [('pages(lo)', different_pages_lo), ('pages(hi)', different_pages_hi)]:\n",
    "            for d_cond_name, date_cond in [('date(lo)', different_date_lo), ('date(hi)', different_date_hi)]:\n",
    "                swde = author_subset[page_cond & same_titles & date_cond & same_desc]\n",
    "                for htid in swde.htid:\n",
    "                    judgments.append({'left':target.htid, 'right':htid, 'judgment':'SWDE', 'notes':'fuzztitle+desc/diff:{}+{}'.format(p_cond_name, d_cond_name)})\n",
    "            \n",
    "        # AUTHOR\n",
    "        max_author = 2\n",
    "        for htid in author_subset[different_titles].htid.iloc[:max_author]:\n",
    "            judgments.append({'left':target.htid, 'right':htid, 'judgment':'AUTHOR', 'notes':'diff:fuzztitle'})\n",
    "\n",
    "    # DIFF\n",
    "    n = 3 # number of random diffs per value\n",
    "    non_author_sample = df[df.author != author_subset.iloc[0].author].sample(author_subset.shape[0]*n)\n",
    "    judgments += [{'left':left, 'right':right, 'judgment':'DIFF', 'note':'diff:author'} for left, right in zip(author_subset.htid.tolist() * n, non_author_sample.htid)]\n",
    "\n",
    "all_meta = pd.concat([all_meta, pd.DataFrame(judgments)]).drop_duplicates(['left','right'])\n",
    "del judgments\n",
    "all_meta.judgment.value_counts()"
   ]
  },
  {
   "cell_type": "code",
   "execution_count": 26,
   "metadata": {},
   "outputs": [],
   "source": [
    "all_meta.sort_values('left').to_parquet('../ground_truth_meta_judgments.parquet', index=False)"
   ]
  },
  {
   "cell_type": "code",
   "execution_count": 27,
   "metadata": {},
   "outputs": [
    {
     "data": {
      "text/plain": [
       "DIFF        431592\n",
       "AUTHOR      271381\n",
       "WP_DV       141904\n",
       "SWSM         21586\n",
       "SWDE          9930\n",
       "PARTOF         463\n",
       "CONTAINS       463\n",
       "Name: judgment, dtype: int64"
      ]
     },
     "execution_count": 27,
     "metadata": {},
     "output_type": "execute_result"
    }
   ],
   "source": [
    "all_meta.judgment.value_counts()"
   ]
  },
  {
   "cell_type": "code",
   "execution_count": 5,
   "metadata": {},
   "outputs": [],
   "source": [
    "# Write left/right records to json as needed by crunch_stats.py\n",
    "import json\n",
    "import pandas as pd\n",
    "all_meta = pd.read_parquet('../ground_truth_meta_judgments.parquet')\n",
    "with open('/tmp/to_crunch_stats.json', mode='w') as f:\n",
    "    for row in all_meta.to_dict(orient='records'):\n",
    "        json.dump(row, f)\n",
    "        f.write('\\n')"
   ]
  },
  {
   "cell_type": "code",
   "execution_count": 13,
   "metadata": {},
   "outputs": [
    {
     "data": {
      "text/html": [
       "<div>\n",
       "<style scoped>\n",
       "    .dataframe tbody tr th:only-of-type {\n",
       "        vertical-align: middle;\n",
       "    }\n",
       "\n",
       "    .dataframe tbody tr th {\n",
       "        vertical-align: top;\n",
       "    }\n",
       "\n",
       "    .dataframe thead th {\n",
       "        text-align: right;\n",
       "    }\n",
       "</style>\n",
       "<table border=\"1\" class=\"dataframe\">\n",
       "  <thead>\n",
       "    <tr style=\"text-align: right;\">\n",
       "      <th></th>\n",
       "      <th>left</th>\n",
       "      <th>right</th>\n",
       "      <th>judgment</th>\n",
       "      <th>notes</th>\n",
       "    </tr>\n",
       "  </thead>\n",
       "  <tbody>\n",
       "    <tr>\n",
       "      <th>776922</th>\n",
       "      <td>uiuo.ark:/13960/t0000211j</td>\n",
       "      <td>hvd.32044004560470</td>\n",
       "      <td>DIFF</td>\n",
       "      <td>diff:author</td>\n",
       "    </tr>\n",
       "    <tr>\n",
       "      <th>776923</th>\n",
       "      <td>uiuo.ark:/13960/t0000211j</td>\n",
       "      <td>mdp.39015016923313</td>\n",
       "      <td>DIFF</td>\n",
       "      <td>diff:author</td>\n",
       "    </tr>\n",
       "    <tr>\n",
       "      <th>776924</th>\n",
       "      <td>uiuo.ark:/13960/t0000211j</td>\n",
       "      <td>mdp.39015059378672</td>\n",
       "      <td>DIFF</td>\n",
       "      <td>diff:author</td>\n",
       "    </tr>\n",
       "    <tr>\n",
       "      <th>776925</th>\n",
       "      <td>uiuo.ark:/13960/t0000211j</td>\n",
       "      <td>wu.89094335031</td>\n",
       "      <td>AUTHOR</td>\n",
       "      <td>diff:fuzztitle</td>\n",
       "    </tr>\n",
       "    <tr>\n",
       "      <th>776926</th>\n",
       "      <td>uiuo.ark:/13960/t0000211j</td>\n",
       "      <td>uc1.$b96097</td>\n",
       "      <td>AUTHOR</td>\n",
       "      <td>diff:fuzztitle</td>\n",
       "    </tr>\n",
       "  </tbody>\n",
       "</table>\n",
       "</div>"
      ],
      "text/plain": [
       "                             left               right judgment           notes\n",
       "776922  uiuo.ark:/13960/t0000211j  hvd.32044004560470     DIFF     diff:author\n",
       "776923  uiuo.ark:/13960/t0000211j  mdp.39015016923313     DIFF     diff:author\n",
       "776924  uiuo.ark:/13960/t0000211j  mdp.39015059378672     DIFF     diff:author\n",
       "776925  uiuo.ark:/13960/t0000211j      wu.89094335031   AUTHOR  diff:fuzztitle\n",
       "776926  uiuo.ark:/13960/t0000211j         uc1.$b96097   AUTHOR  diff:fuzztitle"
      ]
     },
     "execution_count": 13,
     "metadata": {},
     "output_type": "execute_result"
    }
   ],
   "source": [
    "all_meta[all_meta.left.str.contains('uiuo')].head()"
   ]
  },
  {
   "cell_type": "code",
   "execution_count": 19,
   "metadata": {},
   "outputs": [],
   "source": [
    "# Also process handcoded stats\n",
    "from htrc_features import utils\n",
    "handcoded = pd.read_csv('http://35.239.220.133/download')\n",
    "handcoded = handcoded.rename(columns={'target':'left', 'candidate':'right'})\n",
    "for col in ['left', 'right']:\n",
    "    handcoded[col] = handcoded[col].apply(utils.extract_htid)\n",
    "handcoded['notes'] = handcoded['notes'].fillna('')\n",
    "with open('/tmp/handcoded_stats.json', mode='w') as f:\n",
    "    for row in handcoded[['left', 'right', 'judgment', 'notes']].to_dict(orient='records'):\n",
    "        json.dump(row, f)\n",
    "        f.write('\\n')"
   ]
  },
  {
   "cell_type": "markdown",
   "metadata": {},
   "source": [
    "## Using OCLC for ground truth\n",
    "\n",
    "Rather than loading from online, you can download beforehand with `wget -O /data/saddl/oclc_classify/{}.xml -q http://classify.oclc.org/classify2/Classify?oclc={}&summary=false`"
   ]
  },
  {
   "cell_type": "code",
   "execution_count": 20,
   "metadata": {},
   "outputs": [],
   "source": [
    "from smart_open import open"
   ]
  },
  {
   "cell_type": "code",
   "execution_count": 66,
   "metadata": {},
   "outputs": [
    {
     "data": {
      "text/plain": [
       "(143864, 27)"
      ]
     },
     "execution_count": 66,
     "metadata": {},
     "output_type": "execute_result"
    }
   ],
   "source": [
    "df = meta.full_table()\n",
    "df.shape"
   ]
  },
  {
   "cell_type": "code",
   "execution_count": 74,
   "metadata": {},
   "outputs": [],
   "source": [
    "df['oclc_num'].drop_duplicates().to_csv('unique_oclc.csv', index=False, header=False)"
   ]
  },
  {
   "cell_type": "code",
   "execution_count": 71,
   "metadata": {},
   "outputs": [
    {
     "data": {
      "text/plain": [
       "'<?xml version=\"1.0\" encoding=\"UTF-8\" standalone=\"no\"?>\\n<classify xmlns=\"http://classify.oclc.org\">\\n  <response code=\"2\"/>\\n  <!--Classify is a product of OCLC Online Computer Library Center: http://classify.oclc.org-->\\n  <work author=\"Kürschner, Joseph, 1853-1902 | Kürschner, Joseph, 1853-1902 [Editor]\" editions=\"18\" eholdings=\"12\" format=\"Book\" holdings=\"70\" itemtype=\"itemtype-book\" owi=\"3375803240\" title=\"Deutsche National-Litteratur : Historisch-kritishe Ausgabe\">7925241</work>\\n  <authors>\\n    <author lc=\"n83054455\" viaf=\"45094588\">Kürschner, Joseph, 1853-1902 [Editor]</author>\\n  </authors>\\n  <orderBy>thold desc</orderBy>\\n  <input type=\"oclc\">809019115</input>\\n  <start>0</start>\\n  <maxRecs>25</maxRecs>\\n  <editions>\\n    <edition author=\"Kürschner, Joseph, 1853-1902\" eholdings=\"0\" format=\"Book\" holdings=\"37\" itemtype=\"itemtype-book\" language=\"ger\" oclc=\"7925241\" title=\"Deutsche National-Litteratur : Historisch-kritishe Ausgabe\">\\n      <classifications>\\n        <class ind1=\"1\" ind2=\"0\" sfa=\"PT1101\" tag=\"050\"/>\\n        <class edition=\"0\" ind1=\"0\" ind2=\"4\" sf2=\"00\" sfa=\"830.82\" tag=\"082\"/>\\n      </classifications>\\n    </edition>\\n    <edition eholdings=\"0\" format=\"Book\" holdings=\"8\" itemtype=\"itemtype-book\" language=\"ger\" oclc=\"13565483\" title=\"Deutsche National-Litteratur\">\\n      <classifications>\\n        <class ind1=\" \" ind2=\"4\" sfa=\"PT1101\" tag=\"050\"/>\\n      </classifications>\\n    </edition>\\n    <edition eholdings=\"0\" format=\"Book\" holdings=\"5\" itemtype=\"itemtype-book\" language=\"ger\" oclc=\"614663372\" title=\"Deutsche National-Litteratur : Registerbd\"/>\\n    <edition eholdings=\"5\" format=\"eBook\" holdings=\"0\" itemtype=\"itemtype-book-digital\" language=\"ger\" oclc=\"894213070\" title=\"Deutsche National-Litteratur\"/>\\n    <edition author=\"Kürschner, Joseph, 1853-1902\" eholdings=\"5\" format=\"eBook\" holdings=\"0\" itemtype=\"itemtype-book-digital\" language=\"eng\" oclc=\"909964922\" title=\"Deutsche National-Litteratur\">\\n      <classifications>\\n        <class ind1=\" \" ind2=\"4\" sfa=\"PT1101\" tag=\"050\"/>\\n      </classifications>\\n    </edition>\\n    <edition eholdings=\"0\" format=\"Book\" holdings=\"4\" itemtype=\"itemtype-book\" language=\"ger\" oclc=\"714976960\" title=\"Deutsche National-Litteratur\"/>\\n    <edition eholdings=\"0\" format=\"Book\" holdings=\"4\" itemtype=\"itemtype-book\" language=\"ger\" oclc=\"174174231\" title=\"Deutsche National-Litteratur : Registerbd\"/>\\n    <edition eholdings=\"0\" format=\"Book\" holdings=\"2\" itemtype=\"itemtype-book\" language=\"ger\" oclc=\"80352877\" title=\"Deutsche National-Litteratur\"/>\\n    <edition author=\"Kürschner, Joseph, 1853-1902\" eholdings=\"0\" format=\"Microform\" holdings=\"2\" itemtype=\"itemtype-book-mic\" language=\"ger\" oclc=\"22491650\" title=\"Deutsche National-Litteratur : Historisch-kritishe Ausgabe\">\\n      <classifications>\\n        <class ind1=\"1\" ind2=\"0\" sfa=\"PT1101\" tag=\"050\"/>\\n      </classifications>\\n    </edition>\\n    <edition eholdings=\"2\" format=\"eBook\" holdings=\"0\" itemtype=\"itemtype-book-digital\" language=\"ger\" oclc=\"952864855\" title=\"Deutsche National-Litteratur\"/>\\n    <edition author=\"Kürschner, Joseph, 1853-1902\" eholdings=\"0\" format=\"Book\" holdings=\"1\" itemtype=\"itemtype-book\" language=\"eng\" oclc=\"809019115\" title=\"Deutsche National-Litteratur\">\\n      <classifications>\\n        <class ind1=\"1\" ind2=\"4\" sfa=\"PT1101\" tag=\"050\"/>\\n      </classifications>\\n    </edition>\\n    <edition author=\"Kürschner, Joseph, 1853-1902\" eholdings=\"0\" format=\"Book\" holdings=\"1\" itemtype=\"itemtype-book\" language=\"ger\" oclc=\"1100627801\" title=\"DEUTSCHE NATIONAL-LITTERATUR\"/>\\n    <edition eholdings=\"0\" format=\"Book\" holdings=\"1\" itemtype=\"itemtype-book\" language=\"und\" oclc=\"74877093\" title=\"Deutsche National-Litteratur\"/>\\n    <edition author=\"Kürschner, Joseph, 1853-1902\" eholdings=\"0\" format=\"Book\" holdings=\"1\" itemtype=\"itemtype-book\" language=\"ger\" oclc=\"1099530461\" title=\"DEUTSCHE NATIONAL LITTERATUR\"/>\\n    <edition eholdings=\"0\" format=\"Book\" holdings=\"1\" itemtype=\"itemtype-book\" language=\"ger\" oclc=\"906977335\" title=\"Deutsche national litteratur\"/>\\n    <edition eholdings=\"0\" format=\"Book\" holdings=\"1\" itemtype=\"itemtype-book\" language=\"ger\" oclc=\"933119587\" title=\"Deutsche national-litteratur\"/>\\n    <edition eholdings=\"0\" format=\"Book\" holdings=\"1\" itemtype=\"itemtype-book\" language=\"ger\" oclc=\"82439872\" title=\"Deutsche National-Litteratur\"/>\\n    <edition eholdings=\"0\" format=\"Microform\" holdings=\"1\" itemtype=\"itemtype-book-mic\" language=\"ger\" oclc=\"77177571\" title=\"Deutsche National-Litteratur .\"/>\\n  </editions>\\n  <recommendations>\\n    <graph>http://chart.apis.google.com/chart?cht=p&amp;chd=e:pmWZ&amp;chs=350x200&amp;chts=000000,16&amp;chtt=All+Editions&amp;chco=0D0399,124DBA&amp;chdl=Classified|Unclassified</graph>\\n    <fast>\\n      <graph>http://chart.apis.google.com/chart?cht=p&amp;chd=e:-vBQ&amp;chs=475x175&amp;chco=0D0399,124DBA&amp;chdl=German+literature|German+literature--Early+modern</graph>\\n      <headings>\\n        <heading heldby=\"41\" ident=\"941797\" src=\"fast\">German literature</heading>\\n        <heading heldby=\"1\" ident=\"1710974\" src=\"fast\">German literature--Early modern</heading>\\n      </headings>\\n    </fast>\\n    <ddc>\\n      <mostPopular holdings=\"37\" nsfa=\"830.82\" sfa=\"830.82\"/>\\n      <mostRecent holdings=\"37\" sfa=\"830.82\"/>\\n      <graph>http://chart.apis.google.com/chart?cht=p&amp;chtt=DDC&amp;chd=e:czjM&amp;chs=350x200&amp;chts=000000,16&amp;chco=0D0399,124DBA&amp;chdl=830.82|Unclassified</graph>\\n    </ddc>\\n    <lcc>\\n      <mostPopular holdings=\"53\" nsfa=\"PT1101\" sfa=\"PT1101\"/>\\n      <mostRecent holdings=\"53\" sfa=\"PT1101\"/>\\n      <graph>http://chart.apis.google.com/chart?cht=p&amp;chtt=LCC&amp;chd=e:pmWZ&amp;chs=350x200&amp;chts=000000,16&amp;chco=0D0399,124DBA&amp;chdl=PT1101|Unclassified</graph>\\n    </lcc>\\n  </recommendations>\\n</classify>\\n'"
      ]
     },
     "execution_count": 71,
     "metadata": {},
     "output_type": "execute_result"
    }
   ],
   "source": [
    "import json\n",
    "with open('http://classify.oclc.org/classify2/Classify?oclc=809019115&summary=false') as f:\n",
    "    oclc = f.read()\n",
    "oclc"
   ]
  },
  {
   "cell_type": "code",
   "execution_count": 23,
   "metadata": {},
   "outputs": [],
   "source": [
    "from bs4 import BeautifulSoup\n",
    "soup = BeautifulSoup(oclc, 'html.parser')"
   ]
  },
  {
   "cell_type": "code",
   "execution_count": 53,
   "metadata": {},
   "outputs": [
    {
     "data": {
      "text/plain": [
       "htid                                                      ien.35556021235395\n",
       "access                                                                 allow\n",
       "rights                                                                  pdus\n",
       "ht_bib_key                                                           1107820\n",
       "description                                                             None\n",
       "source                                                                   IEN\n",
       "source_bib_num                                                       2636944\n",
       "oclc_num                                                              882921\n",
       "isbn                                                                    None\n",
       "issn                                                                    None\n",
       "lccn                                                         62063405 /L/r80\n",
       "title                      Essays on some unsettled questions in the econ...\n",
       "imprint                    Graduate School of Business, Bureau of Busines...\n",
       "rights_reason_code                                                       ren\n",
       "rights_timestamp                                         2017-05-27 05:25:43\n",
       "us_gov_doc_flag                                                            0\n",
       "rights_date_used                                                        1962\n",
       "pub_place                                                                inu\n",
       "lang                                                                     eng\n",
       "bib_fmt                                                                   BK\n",
       "collection_code                                                          NWU\n",
       "content_provider_code                                           northwestern\n",
       "responsible_entity_code                                         northwestern\n",
       "digitization_agent_code                                               google\n",
       "access_profile_code                                                   google\n",
       "author                                          Wilson, George W. 1928-2004.\n",
       "page_count                                                               194\n",
       "Name: 0, dtype: object"
      ]
     },
     "execution_count": 53,
     "metadata": {},
     "output_type": "execute_result"
    }
   ],
   "source": [
    "meta.random()"
   ]
  },
  {
   "cell_type": "code",
   "execution_count": 56,
   "metadata": {},
   "outputs": [
    {
     "data": {
      "text/plain": [
       "OrderedDict([('@author', 'Wilson, George W. (George Wilton), 1928-2004'),\n",
       "             ('@editions', '5'),\n",
       "             ('@eholdings', '5'),\n",
       "             ('@format', 'Book'),\n",
       "             ('@holdings', '218'),\n",
       "             ('@itemtype', 'itemtype-book'),\n",
       "             ('@owi', '9349663054'),\n",
       "             ('@title',\n",
       "              'Essays on some unsettled questions in the economics of transportation'),\n",
       "             ('#text', '882921')])"
      ]
     },
     "execution_count": 56,
     "metadata": {},
     "output_type": "execute_result"
    }
   ],
   "source": [
    "a = xmltodict.parse(oclc)['classify']\n",
    "assert a['response']['@code'] == '2'\n",
    "a['work']"
   ]
  },
  {
   "cell_type": "code",
   "execution_count": 28,
   "metadata": {},
   "outputs": [],
   "source": [
    "import xmltodict"
   ]
  },
  {
   "cell_type": "code",
   "execution_count": 63,
   "metadata": {},
   "outputs": [
    {
     "data": {
      "text/html": [
       "<div>\n",
       "<style scoped>\n",
       "    .dataframe tbody tr th:only-of-type {\n",
       "        vertical-align: middle;\n",
       "    }\n",
       "\n",
       "    .dataframe tbody tr th {\n",
       "        vertical-align: top;\n",
       "    }\n",
       "\n",
       "    .dataframe thead th {\n",
       "        text-align: right;\n",
       "    }\n",
       "</style>\n",
       "<table border=\"1\" class=\"dataframe\">\n",
       "  <thead>\n",
       "    <tr style=\"text-align: right;\">\n",
       "      <th></th>\n",
       "      <th>htid</th>\n",
       "      <th>access</th>\n",
       "      <th>rights</th>\n",
       "      <th>ht_bib_key</th>\n",
       "      <th>description</th>\n",
       "      <th>source</th>\n",
       "      <th>source_bib_num</th>\n",
       "      <th>oclc_num</th>\n",
       "      <th>isbn</th>\n",
       "      <th>issn</th>\n",
       "      <th>...</th>\n",
       "      <th>pub_place</th>\n",
       "      <th>lang</th>\n",
       "      <th>bib_fmt</th>\n",
       "      <th>collection_code</th>\n",
       "      <th>content_provider_code</th>\n",
       "      <th>responsible_entity_code</th>\n",
       "      <th>digitization_agent_code</th>\n",
       "      <th>access_profile_code</th>\n",
       "      <th>author</th>\n",
       "      <th>page_count</th>\n",
       "    </tr>\n",
       "  </thead>\n",
       "  <tbody>\n",
       "  </tbody>\n",
       "</table>\n",
       "<p>0 rows × 27 columns</p>\n",
       "</div>"
      ],
      "text/plain": [
       "Empty DataFrame\n",
       "Columns: [htid, access, rights, ht_bib_key, description, source, source_bib_num, oclc_num, isbn, issn, lccn, title, imprint, rights_reason_code, rights_timestamp, us_gov_doc_flag, rights_date_used, pub_place, lang, bib_fmt, collection_code, content_provider_code, responsible_entity_code, digitization_agent_code, access_profile_code, author, page_count]\n",
       "Index: []\n",
       "\n",
       "[0 rows x 27 columns]"
      ]
     },
     "execution_count": 63,
     "metadata": {},
     "output_type": "execute_result"
    }
   ],
   "source": [
    "meta.get_where('oclc_num == \"570650798\"')"
   ]
  }
 ],
 "metadata": {
  "kernelspec": {
   "display_name": "Python 3",
   "language": "python",
   "name": "python3"
  },
  "language_info": {
   "codemirror_mode": {
    "name": "ipython",
    "version": 3
   },
   "file_extension": ".py",
   "mimetype": "text/x-python",
   "name": "python",
   "nbconvert_exporter": "python",
   "pygments_lexer": "ipython3",
   "version": "3.6.7"
  }
 },
 "nbformat": 4,
 "nbformat_minor": 4
}
