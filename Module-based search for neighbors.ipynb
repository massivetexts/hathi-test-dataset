{
 "cells": [
  {
   "cell_type": "code",
   "execution_count": 89,
   "metadata": {},
   "outputs": [],
   "source": [
    "from python.chunk_collection import ChunkCollection\n",
    "from python.utils import VectorComparison, MTVolume, HTID\n",
    "import random"
   ]
  },
  {
   "cell_type": "code",
   "execution_count": 6,
   "metadata": {},
   "outputs": [
    {
     "name": "stdout",
     "output_type": "stream",
     "text": [
      "The autoreload extension is already loaded. To reload it, use:\n",
      "  %reload_ext autoreload\n"
     ]
    }
   ],
   "source": [
    "%load_ext autoreload\n",
    "%autoreload 2"
   ]
  },
  {
   "cell_type": "code",
   "execution_count": 27,
   "metadata": {},
   "outputs": [],
   "source": [
    "corpus = ChunkCollection(\"All_SRP_Chunks.bin\", \"test_dataset.csv.gz\")"
   ]
  },
  {
   "cell_type": "code",
   "execution_count": 391,
   "metadata": {},
   "outputs": [
    {
     "data": {
      "text/html": [
       "<strong><a href='http://hdl.handle.net/2027/uc1.b3272179'>Our native birds; how to protect them and attract them to our homes.</a></strong> by <em>Lange, D. (Dietrich) 1863-1940 </em> (1906, 192 pages) - <code>uc1.b3272179</code>"
      ],
      "text/plain": [
       "<python.utils.HTID at 0x7fe5b436a5c0>"
      ]
     },
     "execution_count": 391,
     "metadata": {},
     "output_type": "execute_result"
    }
   ],
   "source": [
    "name = random.sample(list(corpus.htid_lookup), 1)[0]\n",
    "#name = \"njp.32101066909308\"\n",
    "vol = MTVolume(name, corpus)\n",
    "HTID(name)"
   ]
  },
  {
   "cell_type": "code",
   "execution_count": 392,
   "metadata": {},
   "outputs": [
    {
     "name": "stdout",
     "output_type": "stream",
     "text": [
      "[('uc2.ark:/13960/t45q4sn83', 25), ('hvd.32044107221715', 24), ('hvd.hn25ha', 23)]\n"
     ]
    }
   ],
   "source": [
    "neighbors = vol.neighbors(comps_per_item=20, minimum_matches=4)\n",
    "print(neighbors)"
   ]
  },
  {
   "cell_type": "code",
   "execution_count": 407,
   "metadata": {},
   "outputs": [],
   "source": [
    "comps = [VectorComparison(name, neighbor[0], corpus, adjusted=True) for neighbor in neighbors]"
   ]
  },
  {
   "cell_type": "code",
   "execution_count": 411,
   "metadata": {},
   "outputs": [
    {
     "data": {
      "text/html": [
       "<strong><a href='http://hdl.handle.net/2027/uc2.ark:/13960/t45q4sn83'>Our native birds; how to protect them and attract them to our homes / by D. Lange.</a></strong> by <em>Lange, D. (Dietrich) 1863-1940 </em> (1915, 198 pages) - <code>uc2.ark:/13960/t45q4sn83</code>"
      ],
      "text/plain": [
       "<python.utils.HTID at 0x7fe5d4d076a0>"
      ]
     },
     "metadata": {},
     "output_type": "display_data"
    },
    {
     "data": {
      "text/html": [
       "<strong><a href='http://hdl.handle.net/2027/hvd.32044107221715'>Our native birds. How to protect them and attract them to our homes.</a></strong> by <em>Lange, D. (Dietrich) 1863-1940 </em> (1899, 184 pages) - <code>hvd.32044107221715</code>"
      ],
      "text/plain": [
       "<python.utils.HTID at 0x7fe5b3d39a90>"
      ]
     },
     "metadata": {},
     "output_type": "display_data"
    },
    {
     "data": {
      "text/html": [
       "<strong><a href='http://hdl.handle.net/2027/hvd.hn25ha'>Our native birds. How to protect them and attract them to our homes.</a></strong> by <em>Lange, D. (Dietrich) 1863-1940 </em> (1899, 184 pages) - <code>hvd.hn25ha</code>"
      ],
      "text/plain": [
       "<python.utils.HTID at 0x7fe5c1235ac8>"
      ]
     },
     "metadata": {},
     "output_type": "display_data"
    }
   ],
   "source": [
    "plots = []\n",
    "for i, comp in enumerate(comps):\n",
    "    display(HTID(neighbors[i][0]))\n",
    "    comp.assemble_sw_runs(threshold = 0.1)\n",
    "    p = comp.plot(\"similarity_matrix\", runs = True).properties(width=300, height=300)\n",
    "    display(p)\n",
    "    plots.append(p)\n",
    "\n"
   ]
  },
  {
   "cell_type": "markdown",
   "metadata": {},
   "source": [
    "The code below automates this procedure over the whole corpus."
   ]
  },
  {
   "cell_type": "code",
   "execution_count": null,
   "metadata": {},
   "outputs": [
    {
     "name": "stdout",
     "output_type": "stream",
     "text": [
      "0\n",
      "25\n",
      "50\n",
      "75\n",
      "100\n",
      "125\n"
     ]
    }
   ],
   "source": [
    "for i, row in enumerate(corpus.metadata.itertuples()):\n",
    "    vol = MTVolume(row.Index, corpus)\n",
    "    if i % 25 == 0:\n",
    "        print(i)\n",
    "    neighbors = vol.neighbors(comps_per_item=20, minimum_matches=4)\n",
    "    for neighbor in neighbors:\n",
    "        comp = VectorComparison(row.Index, neighbor[0], corpus, adjusted=True)\n",
    "        comp.assemble_sw_runs(threshold = 0.1)\n",
    "        comp.export_runs(\"runs.csv\")"
   ]
  },
  {
   "cell_type": "code",
   "execution_count": 158,
   "metadata": {},
   "outputs": [],
   "source": [
    "import altair as alt\n",
    "alt.vconcat(*plots)#.properties(width=300, height = 300)"
   ]
  }
 ],
 "metadata": {
  "kernelspec": {
   "display_name": "conda_base",
   "language": "python",
   "name": "conda_base"
  },
  "language_info": {
   "codemirror_mode": {
    "name": "ipython",
    "version": 3
   },
   "file_extension": ".py",
   "mimetype": "text/x-python",
   "name": "python",
   "nbconvert_exporter": "python",
   "pygments_lexer": "ipython3",
   "version": "3.7.2"
  }
 },
 "nbformat": 4,
 "nbformat_minor": 2
}
